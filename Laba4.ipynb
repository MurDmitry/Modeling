{
 "cells": [
  {
   "cell_type": "code",
   "execution_count": 93,
   "metadata": {
    "_execution_state": "idle",
    "_uuid": "051d70d956493feee0c6d64651c6a088724dca2a"
   },
   "outputs": [],
   "source": [
    "import numpy as np\n",
    "import scipy.stats as stats\n",
    "from matplotlib import pyplot as plt\n",
    "import copy"
   ]
  },
  {
   "cell_type": "markdown",
   "metadata": {},
   "source": [
    "Параметры (даны по условию)"
   ]
  },
  {
   "cell_type": "code",
   "execution_count": 94,
   "metadata": {},
   "outputs": [],
   "source": [
    "alpha = 0.6     # Параметр альфа\n",
    "delta_t = 0.5   # Период дискретизации\n",
    "sigma = 0.5     # стандартное отклонение для шума w_n\n",
    "delta = 1.5     # стандартное отклонение для шума v_n^l (дБ)\n",
    "beta = 3        # коэффициент среды распространения сигнала\n",
    "L = 6           # Число станций\n",
    "P0 = 90         # Мощность сигнала, передаваемого базовой станцией (дБ)\n",
    "M = 10          # Число частиц\n",
    "\n",
    "\n",
    "x = np.random.multivariate_normal(np.zeros((L)), np.diag((500, 5, 5, 200, 5, 5)), M)  # Начальное состояние системы\n",
    "u = np.random.randint(0, 4, M)             # Индекс начального состояния марковской цепи для каждой частицы\n",
    "ans = []"
   ]
  },
  {
   "cell_type": "markdown",
   "metadata": {},
   "source": [
    "Матрицы A, B, C с тильдой (даны по условию)"
   ]
  },
  {
   "cell_type": "code",
   "execution_count": 95,
   "metadata": {},
   "outputs": [],
   "source": [
    "# Матрицы A, B, C с тильдой\n",
    "A_tilde = np.array([\n",
    "    [1, delta_t, delta_t**2 / 2],\n",
    "    [0, 1, delta_t],\n",
    "    [0, 0, alpha]\n",
    "])\n",
    "\n",
    "B_tilde = np.array([\n",
    "    [delta_t**2 / 2],\n",
    "    [delta_t],\n",
    "    [0]\n",
    "])\n",
    "\n",
    "C_tilde = np.array([\n",
    "    [delta_t**2 / 2],\n",
    "    [delta_t],\n",
    "    [1]\n",
    "])"
   ]
  },
  {
   "cell_type": "markdown",
   "metadata": {},
   "source": [
    "Матрицы A, B, C (даны по условию)"
   ]
  },
  {
   "cell_type": "code",
   "execution_count": 96,
   "metadata": {},
   "outputs": [],
   "source": [
    "zeros_3x3 = np.zeros((3, 3))\n",
    "zeros_3x1 = np.zeros((3, 1))\n",
    "\n",
    "# Матрицы A, B, C\n",
    "A = np.block([\n",
    "    [A_tilde, zeros_3x3],\n",
    "    [zeros_3x3, A_tilde]\n",
    "])\n",
    "\n",
    "B = np.block([\n",
    "    [B_tilde, zeros_3x1],\n",
    "    [zeros_3x1, B_tilde]\n",
    "])\n",
    "\n",
    "C = np.block([\n",
    "    [C_tilde, zeros_3x1],\n",
    "    [zeros_3x1, C_tilde]\n",
    "])"
   ]
  },
  {
   "cell_type": "markdown",
   "metadata": {},
   "source": [
    "Остальные матрицы (даны по условию)"
   ]
  },
  {
   "cell_type": "code",
   "execution_count": 97,
   "metadata": {},
   "outputs": [],
   "source": [
    "# Управляющие команды u_n\n",
    "U = np.array([\n",
    "    [0, 0],\n",
    "    [3.5, 0],\n",
    "    [0, 3.5],\n",
    "    [-3.5, 0],\n",
    "    [0, -3.5]\n",
    "])\n",
    "\n",
    "# Матрица переходных вероятностей P\n",
    "P = np.array([\n",
    "    [16, 1, 1, 1, 1],\n",
    "    [1, 16, 1, 1, 1],\n",
    "    [1, 1, 16, 1, 1],\n",
    "    [1, 1, 1, 16, 1],\n",
    "    [1, 1, 1, 1, 16]\n",
    "]) / 20"
   ]
  },
  {
   "cell_type": "markdown",
   "metadata": {},
   "source": [
    "Считывание данных"
   ]
  },
  {
   "cell_type": "code",
   "execution_count": 98,
   "metadata": {},
   "outputs": [],
   "source": [
    "def read_file(file_name):\n",
    "    with open(file_name, 'r') as f:\n",
    "        data_lines = [line.strip().split() for line in f]\n",
    "    return np.array(data_lines, dtype=float).T"
   ]
  },
  {
   "cell_type": "code",
   "execution_count": 99,
   "metadata": {},
   "outputs": [
    {
     "name": "stdout",
     "output_type": "stream",
     "text": [
      "[[    0.      4000.    ]\n",
      " [    0.     -4000.    ]\n",
      " [ 3464.1016  2000.    ]\n",
      " [ 3464.1016 -2000.    ]\n",
      " [-3464.1016 -2000.    ]\n",
      " [-3464.1016  2000.    ]]\n",
      "============================================================\n",
      "[[-18.67918   -18.248671  -17.303319  -17.173036  -18.115797  -17.553736 ]\n",
      " [-16.269286  -18.623889  -16.816012  -18.594344  -18.118293  -17.972993 ]\n",
      " [-18.83336   -16.180802  -19.280249  -19.279911  -18.00498   -17.405444 ]\n",
      " ...\n",
      " [ -5.4839427 -27.471672  -12.888184  -21.71415   -27.468836  -22.955865 ]\n",
      " [ -7.9050906 -26.371108  -11.930547  -20.16127   -23.442843  -17.902805 ]\n",
      " [ -4.209267  -25.189529  -11.057371  -22.052968  -21.621816  -19.883949 ]]\n"
     ]
    }
   ],
   "source": [
    "stations = read_file('stations.txt')\n",
    "y = read_file('RSSI-measurements.txt')\n",
    "\n",
    "print(stations)     # Станции\n",
    "print('============================================================')\n",
    "print(y)            # Показания станций (наблюдения)"
   ]
  },
  {
   "cell_type": "code",
   "execution_count": 100,
   "metadata": {},
   "outputs": [
    {
     "name": "stdout",
     "output_type": "stream",
     "text": [
      "(501, 6)\n"
     ]
    }
   ],
   "source": [
    "print(y.shape)   # 501 наблюдение. Каждое наблюдение содержит 6 значений (так как 6 станций)"
   ]
  },
  {
   "cell_type": "code",
   "execution_count": 101,
   "metadata": {},
   "outputs": [],
   "source": [
    "# Цикл по всем наблюдениям (измерениям) в наборе данных\n",
    "for i in range(len(y)):\n",
    "    w = np.zeros((M))\n",
    "    # Цикл по всем частицам\n",
    "    for j in range(M):\n",
    "        # ------------------------ 1. Предсказание ------------------------\n",
    "        trans = stats.rv_discrete(values=(np.arange(5), P[u[j]]))     # Дискретное распределение для выбора управления \n",
    "        u[j] = trans.rvs()                                            # Случайное управление согласно распределению\n",
    "\n",
    "        # Прогноз нового состояния частицы (по формуле)\n",
    "        x[j] = np.dot(A, x[j]) + \\\n",
    "               np.dot(B, U[u[j]]) + \\\n",
    "               np.dot(C, np.random.multivariate_normal(np.zeros((2)), np.diag((sigma ** 2, sigma ** 2))))\n",
    "\n",
    "        # ------------------------ 2. Обновление весов ------------------------\n",
    "        y_t = np.zeros(L)\n",
    "        for k in range(L):    # Все станции (L = 6)\n",
    "            particle_pos = x[j][[0, 3]]    # Координаты положения (индексы 0 и 3)\n",
    "            station_pos = stations[k]      # Позиция k-й станции\n",
    "            \n",
    "            # Расстояние от частицы до k-й станции \n",
    "            dist = np.sqrt((particle_pos[0] - station_pos[0])**2 + \n",
    "                           (particle_pos[1] - station_pos[1])**2)\n",
    "\n",
    "            # Модель наблюдения\n",
    "            y_t[k] = P0 - 10 * beta * np.log10(dist)\n",
    "\n",
    "        # Вычисление веса частицы после сбора всех измерений\n",
    "        squared_diff = np.sum((y_t - y[i])**2)          # Сумма квадратов разниц по всем станциям\n",
    "        w[j] = np.exp(-squared_diff / (2 * delta**2))\n",
    "\n",
    "    # ------------------------ 3. Оценка текущего состояния ------------------------\n",
    "    w /= sum(w)  # Нормализация весов\n",
    "\n",
    "    # Взвешенная оценка состояния системы\n",
    "    x_wave = np.zeros(L)\n",
    "    for j in range(M):\n",
    "        x_wave += w[j] * x[j]\n",
    "    ans.append(x_wave)    # Текущая оценка сохраняется в ответ\n",
    "\n",
    "    # ------------------------ 4. Ресэмплинг ------------------------\n",
    "    x_samples = copy.deepcopy(x)      # Текущие состояние x\n",
    "    u_samples = copy.deepcopy(u)      # Текущие состояние u\n",
    "    \n",
    "    # Дискретное распределение для индексов частиц согласно их весам\n",
    "    w_indices = [i for i in range(len(w))]\n",
    "    w_dist = stats.rv_discrete(values=(w_indices, w))\n",
    "    \n",
    "    # Беру частицы с вероятностью, пропорциональной их весу\n",
    "    for j in range(M):\n",
    "        resample_index = w_dist.rvs()\n",
    "        x[j] = x_samples[resample_index]\n",
    "        u[j] = u_samples[resample_index]"
   ]
  },
  {
   "cell_type": "code",
   "execution_count": 102,
   "metadata": {},
   "outputs": [
    {
     "data": {
      "image/png": "[encoded data removed]",
      "text/plain": [
       "<Figure size 600x600 with 1 Axes>"
      ]
     },
     "metadata": {},
     "output_type": "display_data"
    }
   ],
   "source": [
    "plt.figure(figsize=(6, 6))\n",
    "plt.scatter(stations[:,0], stations[:, 1])\n",
    "ans = np.array(ans)\n",
    "plt.plot(ans[:, 0], ans[:, 3])\n",
    "plt.show()"
   ]
  }
 ],
 "metadata": {
  "kernelspec": {
   "display_name": "Python 3",
   "language": "python",
   "name": "python3"
  },
  "language_info": {
   "codemirror_mode": {
    "name": "ipython",
    "version": 3
   },
   "file_extension": ".py",
   "mimetype": "text/x-python",
   "name": "python",
   "nbconvert_exporter": "python",
   "pygments_lexer": "ipython3",
   "version": "3.11.4"
  }
 },
 "nbformat": 4,
 "nbformat_minor": 4
}
