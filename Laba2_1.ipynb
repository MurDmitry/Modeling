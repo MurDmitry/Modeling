{
 "cells": [
  {
   "cell_type": "markdown",
   "metadata": {},
   "source": [
    "# Подключение необходимых библиотек"
   ]
  },
  {
   "cell_type": "code",
   "execution_count": 2,
   "metadata": {},
   "outputs": [],
   "source": [
    "import numpy as np\n",
    "import random\n",
    "import matplotlib.pyplot as plt\n",
    "import math"
   ]
  },
  {
   "cell_type": "markdown",
   "metadata": {},
   "source": [
    "# Задание 1\n"
   ]
  },
  {
   "cell_type": "markdown",
   "metadata": {},
   "source": [
    "n: Количество злокачественных клеток\n",
    "\n",
    "m: Количество здоровых клеток\n",
    "\n",
    "k: Заданное значение k\n",
    "\n",
    "N: Число оставшихся здоровых клеток\n",
    "\n",
    "count: Количество симуляций, где N >= k и выполнено условие"
   ]
  },
  {
   "cell_type": "code",
   "execution_count": 3,
   "metadata": {},
   "outputs": [],
   "source": [
    "# Генерация времен гибели здоровых клеток\n",
    "def generate_times(m, healthy_lambda):\n",
    "    healthy_times = np.random.exponential(scale=1 / healthy_lambda, size=m)     # Здоровые клетки (время)\n",
    "    return healthy_times"
   ]
  },
  {
   "cell_type": "code",
   "execution_count": 4,
   "metadata": {},
   "outputs": [],
   "source": [
    "def conditional_monte_carlo(n, m, k, num_samples=1000):\n",
    "    count = 0\n",
    "    \n",
    "    for _ in range(num_samples):\n",
    "        healthy_times = generate_times(m, 2)                          # Генерация времен гибели хороших клеток\n",
    "        sorted_healthy_times = np.sort(healthy_times)[::-1]           # Сортировка времен гибели здоровых клеток (По убыванию)\n",
    "        T_k = sorted_healthy_times[k-1]                               # Определение k-го по величине времени гибели здоровых клеток    \n",
    "\n",
    "        # Вычисляем вероятность, что все злокачественные клетки погибли до T_k\n",
    "        malignant_lambdas = np.ones(n)\n",
    "\n",
    "        prob_all_malignant_dead = np.prod(1 - np.exp(-malignant_lambdas * T_k))   # Произведение\n",
    "\n",
    "        count += prob_all_malignant_dead\n",
    "\n",
    "    probability = count / num_samples\n",
    "    return probability"
   ]
  },
  {
   "cell_type": "code",
   "execution_count": 5,
   "metadata": {},
   "outputs": [
    {
     "name": "stdout",
     "output_type": "stream",
     "text": [
      "Оценка вероятности P(N >= 3): 0.8263514206420465\n"
     ]
    }
   ],
   "source": [
    "n = 5     # Количество злокачественных клеток\n",
    "m = 2000  # Количество здоровых клеток\n",
    "k = 3     # Заданное значение k\n",
    "healthy_lambda = 0.5\n",
    "\n",
    "# Оценка вероятности\n",
    "probability = conditional_monte_carlo(n, m, k)\n",
    "print(f\"Оценка вероятности P(N >= {k}): {probability}\")"
   ]
  },
  {
   "cell_type": "markdown",
   "metadata": {},
   "source": [
    "# Задание 1.2\n",
    "Рассматриваются случайные блуждания без самопересечений (SAW-Self-Avoiding Walk) на неограниченной двумерной целочисленной решетке, стартующие с начала координат (см. рис. 1). Найти оценку среднего расстояния от начала координат до финальной точки блуждания заданной длины n с помощью метода существенной выборки."
   ]
  },
  {
   "cell_type": "code",
   "execution_count": 6,
   "metadata": {},
   "outputs": [],
   "source": [
    "# Вычисление дистанции от начальной точки (0, 0) до текущей\n",
    "def calculate_distance(path):\n",
    "    x, y = path[-1]\n",
    "    return math.sqrt(x**2 + y**2)"
   ]
  },
  {
   "cell_type": "code",
   "execution_count": null,
   "metadata": {},
   "outputs": [],
   "source": [
    "def generate_saw(n):\n",
    "    directions = [(1, 0), (-1, 0), (0, 1), (0, -1)]\n",
    "    path = [(0, 0)]\n",
    "    weight = 1.0\n",
    "    \n",
    "    for _ in range(n):\n",
    "        available_directions = []\n",
    "        \n",
    "        for dx, dy in directions:\n",
    "            new_x, new_y = path[-1][0] + dx, path[-1][1] + dy\n",
    "            if (new_x, new_y) not in path:\n",
    "                available_directions.append((dx, dy))\n",
    "    \n",
    "        if not available_directions:\n",
    "            break\n",
    "        \n",
    "        # Обновляю вес перед выбором направления\n",
    "        weight *= len(available_directions)\n",
    "        \n",
    "        # Выбираю случайное направление\n",
    "        dx, dy = random.choice(available_directions)\n",
    "        new_x, new_y = path[-1][0] + dx, path[-1][1] + dy\n",
    "        path.append((new_x, new_y))\n",
    "    \n",
    "    return path, weight"
   ]
  },
  {
   "cell_type": "code",
   "execution_count": 8,
   "metadata": {},
   "outputs": [
    {
     "name": "stdout",
     "output_type": "stream",
     "text": [
      "Среднее расстояние: 7.1294\n"
     ]
    }
   ],
   "source": [
    "n = 17\n",
    "num_samples = 10000 \n",
    "distances = []\n",
    "weights = []\n",
    "\n",
    "for _ in range(num_samples):\n",
    "        path, weight = generate_saw(n)\n",
    "        if len(path) == n + 1:\n",
    "            distance = calculate_distance(path)\n",
    "            distances.append(distance)\n",
    "            weights.append(weight)\n",
    "\n",
    "distances = np.array(distances)\n",
    "weights = np.array(weights)\n",
    "total_weight = sum(weights)\n",
    "norm_weights = np.array([w / total_weight for w in weights])\n",
    "\n",
    "weighted_mean = np.sum(distances * norm_weights)\n",
    "print(f\"Среднее расстояние: {weighted_mean:.4f}\")"
   ]
  },
  {
   "cell_type": "code",
   "execution_count": 9,
   "metadata": {},
   "outputs": [],
   "source": [
    "def plot_saw(path):\n",
    "    \"\"\"Построение графика самобходящего случайного блуждания.\"\"\"\n",
    "    x = [point[0] for point in path]\n",
    "    y = [point[1] for point in path]\n",
    "    \n",
    "    plt.figure(figsize=(8, 8))\n",
    "    plt.plot(x, y, marker='o', linestyle='-', color='b', markersize=5)\n",
    "    plt.scatter(0, 0, color='red', label='Начало', zorder=5)  # Начальная точка\n",
    "    plt.scatter(x[-1], y[-1], color='green', label='Конец', zorder=5)  # Конечная точка\n",
    "    plt.title(f\"Самобходящее случайное блуждание (n = {len(path)-1})\")\n",
    "    plt.xlabel(\"X\")\n",
    "    plt.ylabel(\"Y\")\n",
    "    plt.grid(True)\n",
    "    plt.legend()\n",
    "    plt.show()"
   ]
  },
  {
   "cell_type": "code",
   "execution_count": 10,
   "metadata": {},
   "outputs": [
    {
     "data": {
      "image/png": "[encoded data removed]",
      "text/plain": [
       "<Figure size 800x800 with 1 Axes>"
      ]
     },
     "metadata": {},
     "output_type": "display_data"
    }
   ],
   "source": [
    "# Генерация и построение графика (просто как пример)\n",
    "path, weight = generate_saw(n)\n",
    "plot_saw(path)"
   ]
  }
 ],
 "metadata": {
  "kernelspec": {
   "display_name": "Python 3",
   "language": "python",
   "name": "python3"
  },
  "language_info": {
   "codemirror_mode": {
    "name": "ipython",
    "version": 3
   },
   "file_extension": ".py",
   "mimetype": "text/x-python",
   "name": "python",
   "nbconvert_exporter": "python",
   "pygments_lexer": "ipython3",
   "version": "3.11.4"
  }
 },
 "nbformat": 4,
 "nbformat_minor": 2
}
